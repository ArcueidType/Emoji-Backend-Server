{
 "cells": [
  {
   "metadata": {
    "ExecuteTime": {
     "end_time": "2024-07-11T08:00:17.095883Z",
     "start_time": "2024-07-11T08:00:16.693022Z"
    }
   },
   "cell_type": "code",
   "source": [
    "import requests\n",
    "from PIL import Image\n",
    "import base64\n",
    "import cv2\n",
    "import numpy as np\n",
    "\n",
    "with open('me.jpg', 'rb') as f:\n",
    "    img = f.read()\n",
    "\n",
    "import json\n",
    "\n",
    "img_base = base64.b64encode(img)\n",
    "img = img_base.decode('ascii')\n",
    "\n",
    "headers = {'Content-Type': 'application/json'}\n",
    "\n",
    "data = json.dumps({'img': img})\n",
    "\n",
    "response = requests.post('http://127.0.0.1:12345/bodysegment', data=data, headers=headers)\n",
    "\n",
    "img = response.json().get('result')\n",
    "img = img.encode('ascii')\n",
    "img = base64.b64decode(img)\n",
    "img_arr = np.frombuffer(img, dtype=np.uint8)\n",
    "img = cv2.imdecode(img_arr, cv2.IMREAD_COLOR)\n",
    "img = cv2.cvtColor(img, cv2.COLOR_BGR2RGB)\n",
    "img = Image.fromarray(img)\n",
    "img.show()"
   ],
   "id": "1048331dbd197b1b",
   "outputs": [
    {
     "ename": "NameError",
     "evalue": "name 'base64' is not defined",
     "output_type": "error",
     "traceback": [
      "\u001B[1;31m---------------------------------------------------------------------------\u001B[0m",
      "\u001B[1;31mNameError\u001B[0m                                 Traceback (most recent call last)",
      "Cell \u001B[1;32mIn[1], line 9\u001B[0m\n\u001B[0;32m      5\u001B[0m     img \u001B[38;5;241m=\u001B[39m f\u001B[38;5;241m.\u001B[39mread()\n\u001B[0;32m      7\u001B[0m \u001B[38;5;28;01mimport\u001B[39;00m \u001B[38;5;21;01mjson\u001B[39;00m\n\u001B[1;32m----> 9\u001B[0m img_base \u001B[38;5;241m=\u001B[39m \u001B[43mbase64\u001B[49m\u001B[38;5;241m.\u001B[39mb64encode(img)\n\u001B[0;32m     10\u001B[0m img \u001B[38;5;241m=\u001B[39m img_base\u001B[38;5;241m.\u001B[39mdecode(\u001B[38;5;124m'\u001B[39m\u001B[38;5;124mascii\u001B[39m\u001B[38;5;124m'\u001B[39m)\n\u001B[0;32m     12\u001B[0m headers \u001B[38;5;241m=\u001B[39m {\u001B[38;5;124m'\u001B[39m\u001B[38;5;124mContent-Type\u001B[39m\u001B[38;5;124m'\u001B[39m: \u001B[38;5;124m'\u001B[39m\u001B[38;5;124mapplication/json\u001B[39m\u001B[38;5;124m'\u001B[39m}\n",
      "\u001B[1;31mNameError\u001B[0m: name 'base64' is not defined"
     ]
    }
   ],
   "execution_count": 1
  }
 ],
 "metadata": {
  "kernelspec": {
   "display_name": "Python 3",
   "language": "python",
   "name": "python3"
  },
  "language_info": {
   "codemirror_mode": {
    "name": "ipython",
    "version": 2
   },
   "file_extension": ".py",
   "mimetype": "text/x-python",
   "name": "python",
   "nbconvert_exporter": "python",
   "pygments_lexer": "ipython2",
   "version": "2.7.6"
  }
 },
 "nbformat": 4,
 "nbformat_minor": 5
}
