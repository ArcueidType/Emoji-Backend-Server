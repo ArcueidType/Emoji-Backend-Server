{
 "cells": [
  {
   "metadata": {
    "ExecuteTime": {
     "end_time": "2024-07-17T07:50:23.446753Z",
     "start_time": "2024-07-17T07:50:23.254522Z"
    }
   },
   "cell_type": "code",
   "source": [
    "import requests\n",
    "from PIL import Image\n",
    "import base64\n",
    "import cv2\n",
    "import numpy as np\n",
    "\n",
    "with open('seg_1.png', 'rb') as f:\n",
    "    img = f.read()\n",
    "\n",
    "import json\n",
    "\n",
    "img_base = base64.b64encode(img)\n",
    "img = img_base.decode('ascii')\n",
    "\n",
    "headers = {'Content-Type': 'application/json'}\n",
    "\n",
    "data = json.dumps({'img': img, 'type': \"宫崎骏\"})\n",
    "\n",
    "response = requests.post('http://127.0.0.1:12345/animegen', data=data, headers=headers)\n",
    "\n",
    "img = response.json().get('result')\n",
    "img = img.encode('ascii')\n",
    "img = base64.b64decode(img)\n",
    "img_arr = np.frombuffer(img, dtype=np.uint8)\n",
    "img = cv2.imdecode(img_arr, cv2.IMREAD_COLOR)\n",
    "img = cv2.cvtColor(img, cv2.COLOR_BGR2RGB)\n",
    "img = Image.fromarray(img)\n",
    "img.show()"
   ],
   "id": "1048331dbd197b1b",
   "outputs": [
    {
     "name": "stdout",
     "output_type": "stream",
     "text": [
      "{\"code\": 500, \"msg\": \"Process Procedure Error: [ONNXRuntimeError] : 3 : NO_SUCHFILE : Load model from ./AnimeGANv3/AnimeGANv3_Hayao_36.onnx failed:Load model ./AnimeGANv3/AnimeGANv3_Hayao_36.onnx failed. File doesn't exist\"}\n",
      "\n",
      "None\n"
     ]
    },
    {
     "ename": "AttributeError",
     "evalue": "'NoneType' object has no attribute 'encode'",
     "output_type": "error",
     "traceback": [
      "\u001B[1;31m---------------------------------------------------------------------------\u001B[0m",
      "\u001B[1;31mAttributeError\u001B[0m                            Traceback (most recent call last)",
      "Cell \u001B[1;32mIn[13], line 24\u001B[0m\n\u001B[0;32m     22\u001B[0m img \u001B[38;5;241m=\u001B[39m response\u001B[38;5;241m.\u001B[39mjson()\u001B[38;5;241m.\u001B[39mget(\u001B[38;5;124m'\u001B[39m\u001B[38;5;124mresult\u001B[39m\u001B[38;5;124m'\u001B[39m)\n\u001B[0;32m     23\u001B[0m \u001B[38;5;28mprint\u001B[39m(img)\n\u001B[1;32m---> 24\u001B[0m img \u001B[38;5;241m=\u001B[39m \u001B[43mimg\u001B[49m\u001B[38;5;241;43m.\u001B[39;49m\u001B[43mencode\u001B[49m(\u001B[38;5;124m'\u001B[39m\u001B[38;5;124mascii\u001B[39m\u001B[38;5;124m'\u001B[39m)\n\u001B[0;32m     25\u001B[0m img \u001B[38;5;241m=\u001B[39m base64\u001B[38;5;241m.\u001B[39mb64decode(img)\n\u001B[0;32m     26\u001B[0m img_arr \u001B[38;5;241m=\u001B[39m np\u001B[38;5;241m.\u001B[39mfrombuffer(img, dtype\u001B[38;5;241m=\u001B[39mnp\u001B[38;5;241m.\u001B[39muint8)\n",
      "\u001B[1;31mAttributeError\u001B[0m: 'NoneType' object has no attribute 'encode'"
     ]
    }
   ],
   "execution_count": 13
  },
  {
   "metadata": {
    "ExecuteTime": {
     "end_time": "2024-07-17T07:49:18.413523Z",
     "start_time": "2024-07-17T07:49:18.378852Z"
    }
   },
   "cell_type": "code",
   "source": [
    "import math\n",
    "import cv2\n",
    "from PIL import Image\n",
    "\n",
    "DESIRED_HEIGHT = 640\n",
    "DESIRED_WIDTH = 640\n",
    "\n",
    "BG_COLOR = (255, 255, 255)\n",
    "\n",
    "img = cv2.imread(\"anime.png\")\n",
    "h, w = img.shape[:2]\n",
    "if h < w:\n",
    "    img = cv2.resize(img, (DESIRED_WIDTH, math.floor(h/(w/DESIRED_WIDTH))))\n",
    "else:\n",
    "    img = cv2.resize(img, (math.floor(w/(h/DESIRED_HEIGHT)), DESIRED_HEIGHT))\n",
    "img = cv2.cvtColor(img, cv2.COLOR_BGR2RGB)\n",
    "image = Image.fromarray(img)\n",
    "image.save(\"anime_compressed.png\", 'PNG')"
   ],
   "id": "71695fbf7f4aa07f",
   "outputs": [
    {
     "ename": "AttributeError",
     "evalue": "'NoneType' object has no attribute 'shape'",
     "output_type": "error",
     "traceback": [
      "\u001B[1;31m---------------------------------------------------------------------------\u001B[0m",
      "\u001B[1;31mAttributeError\u001B[0m                            Traceback (most recent call last)",
      "Cell \u001B[1;32mIn[9], line 11\u001B[0m\n\u001B[0;32m      8\u001B[0m BG_COLOR \u001B[38;5;241m=\u001B[39m (\u001B[38;5;241m255\u001B[39m, \u001B[38;5;241m255\u001B[39m, \u001B[38;5;241m255\u001B[39m)\n\u001B[0;32m     10\u001B[0m img \u001B[38;5;241m=\u001B[39m cv2\u001B[38;5;241m.\u001B[39mimread(\u001B[38;5;124m\"\u001B[39m\u001B[38;5;124manime.png\u001B[39m\u001B[38;5;124m\"\u001B[39m)\n\u001B[1;32m---> 11\u001B[0m h, w \u001B[38;5;241m=\u001B[39m \u001B[43mimg\u001B[49m\u001B[38;5;241;43m.\u001B[39;49m\u001B[43mshape\u001B[49m[:\u001B[38;5;241m2\u001B[39m]\n\u001B[0;32m     12\u001B[0m \u001B[38;5;28;01mif\u001B[39;00m h \u001B[38;5;241m<\u001B[39m w:\n\u001B[0;32m     13\u001B[0m     img \u001B[38;5;241m=\u001B[39m cv2\u001B[38;5;241m.\u001B[39mresize(img, (DESIRED_WIDTH, math\u001B[38;5;241m.\u001B[39mfloor(h\u001B[38;5;241m/\u001B[39m(w\u001B[38;5;241m/\u001B[39mDESIRED_WIDTH))))\n",
      "\u001B[1;31mAttributeError\u001B[0m: 'NoneType' object has no attribute 'shape'"
     ]
    }
   ],
   "execution_count": 9
  },
  {
   "metadata": {},
   "cell_type": "code",
   "outputs": [],
   "execution_count": null,
   "source": [
    "# resize and show\n",
    "\n",
    "# DESIRED_HEIGHT = 480\n",
    "# DESIRED_WIDTH = 480\n",
    "\n",
    "def resize_and_show(image):\n",
    "    h, w = image.shape[:2]\n",
    "    if h < w:\n",
    "        img = cv2.resize(image, (DESIRED_WIDTH, math.floor(h/(w/DESIRED_WIDTH))))\n",
    "    else:\n",
    "        img = cv2.resize(image, (math.floor(w/(h/DESIRED_HEIGHT)), DESIRED_HEIGHT))\n",
    "    cv2.imshow(\"show_img\", img)\n",
    "    cv2.waitKey(0)\n",
    "    img = cv2.cvtColor(image, cv2.COLOR_BGR2RGB)\n",
    "    image = Image.fromarray(img)\n",
    "    image.save(\"../../result.png\", 'PNG')\n",
    "\n",
    "# img = cv2.imread(\"../../seg_3.png\")\n",
    "# img_bytes = trans_to_bytes(img)\n",
    "# body_segment(img_bytes)"
   ],
   "id": "52f699421e2214d0"
  }
 ],
 "metadata": {
  "kernelspec": {
   "display_name": "Python 3",
   "language": "python",
   "name": "python3"
  },
  "language_info": {
   "codemirror_mode": {
    "name": "ipython",
    "version": 2
   },
   "file_extension": ".py",
   "mimetype": "text/x-python",
   "name": "python",
   "nbconvert_exporter": "python",
   "pygments_lexer": "ipython2",
   "version": "2.7.6"
  }
 },
 "nbformat": 4,
 "nbformat_minor": 5
}
