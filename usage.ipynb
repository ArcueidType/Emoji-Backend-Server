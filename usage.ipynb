{
 "cells": [
  {
   "cell_type": "code",
   "execution_count": 17,
   "id": "initial_id",
   "metadata": {
    "collapsed": true,
    "ExecuteTime": {
     "end_time": "2024-07-10T16:17:34.624863Z",
     "start_time": "2024-07-10T16:17:33.004300Z"
    }
   },
   "outputs": [
    {
     "name": "stdout",
     "output_type": "stream",
     "text": [
      "{'code': 200, 'msg': 'ok', 'result': 30}\n"
     ]
    }
   ],
   "source": [
    "import base64\n",
    "from tkinter import Image\n",
    "\n",
    "import requests\n",
    "import json\n",
    "from io import BytesIO\n",
    "\n",
    "\n",
    "headers = {'Content-Type': 'application/json'}\n",
    "data = json.dumps({'num1': 10, 'num2': 20})\n",
    "\n",
    "response = requests.post('https://emoji-generator-114452-5-1327830118.sh.run.tcloudbase.com/add', headers=headers, data=data)\n",
    "print(response.json())\n"
   ]
  },
  {
   "metadata": {
    "ExecuteTime": {
     "end_time": "2024-07-10T15:51:20.882247Z",
     "start_time": "2024-07-10T15:51:20.743983Z"
    }
   },
   "cell_type": "code",
   "source": [
    "import base64\n",
    "import cv2\n",
    "import numpy as np\n",
    "from PIL import Image, ImageFont, ImageDraw\n",
    "from io import BytesIO\n",
    "\n",
    "with open('1.jpg', 'rb') as f:\n",
    "    img_data = f.read()\n",
    "\n",
    "\n",
    "img_base = base64.b64encode(img_data)\n",
    "img = img_base.decode('ascii')\n",
    "img = img.encode('ascii')\n",
    "img = base64.b64decode(img)\n",
    "img_arr = np.frombuffer(img, dtype=np.uint8)\n",
    "img = cv2.imdecode(img_arr, cv2.IMREAD_COLOR)\n",
    "\n",
    "h, w, _ = img.shape\n",
    "img = cv2.cvtColor(img, cv2.COLOR_BGR2GRAY)\n",
    "print(img.shape)\n",
    "img = cv2.copyMakeBorder(img, 0, int(h/5), 0, 0, cv2.BORDER_CONSTANT, value=[0, 0, 0])\n",
    "img = cv2.cvtColor(img, cv2.COLOR_GRAY2RGB)\n",
    "print(img.shape)\n",
    "\n",
    "# img = cv2.cvtColor(img, cv2.COLOR_BGR2RGB)\n",
    "\n",
    "# print(img.shape)\n",
    "# cv2.imshow('img', img)\n",
    "# cv2.waitKey(1)\n",
    "buf = BytesIO()\n",
    "\n",
    "\n",
    "\n",
    "img = Image.fromarray(img)\n",
    "\n",
    "# img.save(buf, format='png')\n",
    "# data = buf.getvalue()\n",
    "\n",
    "# bg = Image.new('RGB', img.size, color=(255, 255, 255))\n",
    "# bg.paste(img, (0, 0))\n",
    "\n",
    "size = int((h/5)*0.75)\n",
    "font = ImageFont.truetype(r'./GlowSansSC-Normal-Heavy.otf', size)\n",
    "txt = '你好'\n",
    "w1, h1 = font.getsize(txt)\n",
    "# w1 = r - l\n",
    "# h1 = b - t\n",
    "draw = ImageDraw.Draw(img)\n",
    "draw.text(((w-w1)/2, h + (h//5-h1)/2), txt, fill='white', font=font)\n",
    "# draw.text((5, 5), txt, fill='red', font=font)\n",
    "img.show()\n"
   ],
   "id": "80386d373cb9b084",
   "outputs": [
    {
     "name": "stdout",
     "output_type": "stream",
     "text": [
      "(320, 320)\n",
      "(384, 320, 3)\n"
     ]
    },
    {
     "name": "stderr",
     "output_type": "stream",
     "text": [
      "/var/folders/yx/z2ywm1jd3p7_gssk72ln9rj80000gn/T/ipykernel_59492/3208381599.py:45: DeprecationWarning: getsize is deprecated and will be removed in Pillow 10 (2023-07-01). Use getbbox or getlength instead.\n",
      "  w1, h1 = font.getsize(txt)\n"
     ]
    }
   ],
   "execution_count": 13
  },
  {
   "metadata": {
    "ExecuteTime": {
     "end_time": "2024-07-15T06:59:01.139981Z",
     "start_time": "2024-07-15T06:59:00.179619Z"
    }
   },
   "cell_type": "code",
   "source": [
    "import requests\n",
    "import json\n",
    "import base64\n",
    "import numpy as np\n",
    "import cv2\n",
    "from PIL import Image\n",
    "from io import BytesIO\n",
    "from pil_utils import BuildImage\n",
    "\n",
    "\n",
    "with open('img.jpg', 'rb') as f:\n",
    "    img_data = f.read()\n",
    "\n",
    "\n",
    "img_base = base64.b64encode(img_data)\n",
    "img = img_base.decode('ascii')\n",
    "\n",
    "headers = {'Content-Type': 'application/json'}\n",
    "# data = json.dumps({'img': img, 'text': '我补药玩CS'})\n",
    "data = json.dumps({'img': img})\n",
    "\n",
    "# response = requests.post('http://127.0.0.1:5000/always', headers=headers, data=data)\n",
    "response = requests.post('http://39.105.8.203/always', headers=headers, data=data)\n",
    "\n",
    "img = response.json().get('result')\n",
    "img = img.encode('ascii')\n",
    "img = base64.b64decode(img)\n",
    "img_arr = np.frombuffer(img, dtype=np.uint8)\n",
    "img = cv2.imdecode(img_arr, cv2.IMREAD_COLOR)\n",
    "img = cv2.cvtColor(img, cv2.COLOR_BGR2RGB)\n",
    "img = Image.fromarray(img)\n",
    "# img.save('img1.png', 'PNG')\n",
    "img.show()"
   ],
   "id": "92aef16011c8d9e9",
   "outputs": [],
   "execution_count": 19
  },
  {
   "metadata": {
    "ExecuteTime": {
     "end_time": "2024-07-15T06:29:55.591911Z",
     "start_time": "2024-07-15T06:29:55.267402Z"
    }
   },
   "cell_type": "code",
   "outputs": [],
   "execution_count": 9,
   "source": [
    "import requests\n",
    "import json\n",
    "import base64\n",
    "import numpy as np\n",
    "import cv2\n",
    "from PIL import Image\n",
    "from io import BytesIO\n",
    "from pil_utils import BuildImage\n",
    "from emoji_generator.emoji_normal import always\n",
    "\n",
    "\n",
    "with open('img.png', 'rb') as f:\n",
    "    img_data = f.read()\n",
    "\n",
    "\n",
    "img_arr = np.frombuffer(img_data, dtype=np.uint8)\n",
    "img = cv2.imdecode(img_arr, cv2.IMREAD_COLOR)\n",
    "img = cv2.cvtColor(img, cv2.COLOR_BGR2RGB)\n",
    "img = Image.fromarray(img)\n",
    "img = always(img)\n",
    "img.save('img1.png', 'PNG')\n",
    "img.show()"
   ],
   "id": "6ecec62f0485dc8a"
  },
  {
   "cell_type": "code",
   "execution_count": null,
   "outputs": [],
   "source": [],
   "metadata": {
    "collapsed": false
   },
   "id": "3c6627cfa62a3063"
  }
 ],
 "metadata": {
  "kernelspec": {
   "display_name": "Python 3",
   "language": "python",
   "name": "python3"
  },
  "language_info": {
   "codemirror_mode": {
    "name": "ipython",
    "version": 2
   },
   "file_extension": ".py",
   "mimetype": "text/x-python",
   "name": "python",
   "nbconvert_exporter": "python",
   "pygments_lexer": "ipython2",
   "version": "2.7.6"
  }
 },
 "nbformat": 4,
 "nbformat_minor": 5
}
