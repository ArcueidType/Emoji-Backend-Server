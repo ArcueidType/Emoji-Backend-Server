{
 "cells": [
  {
   "cell_type": "code",
   "execution_count": null,
   "id": "initial_id",
   "metadata": {
    "collapsed": true
   },
   "outputs": [],
   "source": [
    "import base64\n",
    "from tkinter import Image\n",
    "\n",
    "import requests\n",
    "import json\n",
    "from io import BytesIO\n",
    "\n",
    "\n",
    "headers = {'Content-Type': 'application/json'}\n",
    "data = json.dumps({'num1': 5, 'num2': 3})\n",
    "\n",
    "response = requests.post('http://127.0.0.1:5000/add',headers=headers, data=data)\n",
    "print(response.json())\n"
   ]
  },
  {
   "metadata": {
    "ExecuteTime": {
     "end_time": "2024-07-10T15:19:51.172511Z",
     "start_time": "2024-07-10T15:19:45.250700Z"
    }
   },
   "cell_type": "code",
   "source": [
    "import base64\n",
    "import cv2\n",
    "import numpy as np\n",
    "from PIL import Image, ImageFont, ImageDraw\n",
    "from io import BytesIO\n",
    "\n",
    "with open('2.png', 'rb') as f:\n",
    "    img_data = f.read()\n",
    "\n",
    "\n",
    "img_base = base64.b64encode(img_data)\n",
    "img = img_base.decode('ascii')\n",
    "img = img.encode('ascii')\n",
    "img = base64.b64decode(img)\n",
    "img_arr = np.frombuffer(img, dtype=np.uint8)\n",
    "img = cv2.imdecode(img_arr, cv2.IMREAD_COLOR)\n",
    "\n",
    "h, _, _ = img.shape\n",
    "img = cv2.cvtColor(img, cv2.COLOR_BGR2GRAY)\n",
    "print(img.shape)\n",
    "img = cv2.copyMakeBorder(img, 0, int(h/5), 0, 0, cv2.BORDER_CONSTANT, value=[0, 0, 0])\n",
    "img = cv2.cvtColor(img, cv2.COLOR_GRAY2RGB)\n",
    "print(img.shape)\n",
    "\n",
    "# img = cv2.cvtColor(img, cv2.COLOR_BGR2RGB)\n",
    "\n",
    "# print(img.shape)\n",
    "# cv2.imshow('img', img)\n",
    "# cv2.waitKey(1)\n",
    "buf = BytesIO()\n",
    "\n",
    "\n",
    "\n",
    "img = Image.fromarray(img)\n",
    "\n",
    "# img.save(buf, format='png')\n",
    "# data = buf.getvalue()\n",
    "\n",
    "# bg = Image.new('RGB', img.size, color=(255, 255, 255))\n",
    "# bg.paste(img, (0, 0))\n",
    "\n",
    "size = int((h/5)*0.8)\n",
    "font = ImageFont.truetype(r'Deng.ttf', size)\n",
    "txt = '你好'\n",
    "l, t, r, b = font.getbbox(txt)\n",
    "w1 = r - l\n",
    "h1 = b - t\n",
    "draw = ImageDraw.Draw(img)\n",
    "draw.text(((img.size[1]-w1)/2, h + (h/5-h1)/2), txt, fill='white', font=font)\n",
    "# draw.text((5, 5), txt, fill='red', font=font)\n",
    "img.show()\n"
   ],
   "id": "80386d373cb9b084",
   "outputs": [
    {
     "name": "stdout",
     "output_type": "stream",
     "text": [
      "(987, 1379)\n",
      "(1184, 1379, 3)\n"
     ]
    }
   ],
   "execution_count": 35
  },
  {
   "metadata": {
    "ExecuteTime": {
     "end_time": "2024-07-10T14:10:39.618924Z",
     "start_time": "2024-07-10T14:10:33.385395Z"
    }
   },
   "cell_type": "code",
   "source": "",
   "id": "92aef16011c8d9e9",
   "outputs": [],
   "execution_count": 30
  },
  {
   "metadata": {},
   "cell_type": "code",
   "outputs": [],
   "execution_count": null,
   "source": "",
   "id": "6ecec62f0485dc8a"
  }
 ],
 "metadata": {
  "kernelspec": {
   "display_name": "Python 3",
   "language": "python",
   "name": "python3"
  },
  "language_info": {
   "codemirror_mode": {
    "name": "ipython",
    "version": 2
   },
   "file_extension": ".py",
   "mimetype": "text/x-python",
   "name": "python",
   "nbconvert_exporter": "python",
   "pygments_lexer": "ipython2",
   "version": "2.7.6"
  }
 },
 "nbformat": 4,
 "nbformat_minor": 5
}
