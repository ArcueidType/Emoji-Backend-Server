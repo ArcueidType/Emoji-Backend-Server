{
 "cells": [
  {
   "cell_type": "code",
   "execution_count": 17,
   "id": "initial_id",
   "metadata": {
    "collapsed": true,
    "ExecuteTime": {
     "end_time": "2024-07-10T16:17:34.624863Z",
     "start_time": "2024-07-10T16:17:33.004300Z"
    }
   },
   "outputs": [
    {
     "name": "stdout",
     "output_type": "stream",
     "text": [
      "{'code': 200, 'msg': 'ok', 'result': 30}\n"
     ]
    }
   ],
   "source": [
    "import base64\n",
    "from tkinter import Image\n",
    "\n",
    "import requests\n",
    "import json\n",
    "from io import BytesIO\n",
    "\n",
    "\n",
    "headers = {'Content-Type': 'application/json'}\n",
    "data = json.dumps({'num1': 10, 'num2': 20})\n",
    "\n",
    "response = requests.post('https://emoji-generator-114452-5-1327830118.sh.run.tcloudbase.com/add', headers=headers, data=data)\n",
    "print(response.json())\n"
   ]
  },
  {
   "metadata": {
    "ExecuteTime": {
     "end_time": "2024-07-10T15:51:20.882247Z",
     "start_time": "2024-07-10T15:51:20.743983Z"
    }
   },
   "cell_type": "code",
   "source": [
    "import base64\n",
    "import cv2\n",
    "import numpy as np\n",
    "from PIL import Image, ImageFont, ImageDraw\n",
    "from io import BytesIO\n",
    "\n",
    "with open('1.jpg', 'rb') as f:\n",
    "    img_data = f.read()\n",
    "\n",
    "\n",
    "img_base = base64.b64encode(img_data)\n",
    "img = img_base.decode('ascii')\n",
    "img = img.encode('ascii')\n",
    "img = base64.b64decode(img)\n",
    "img_arr = np.frombuffer(img, dtype=np.uint8)\n",
    "img = cv2.imdecode(img_arr, cv2.IMREAD_COLOR)\n",
    "\n",
    "h, w, _ = img.shape\n",
    "img = cv2.cvtColor(img, cv2.COLOR_BGR2GRAY)\n",
    "print(img.shape)\n",
    "img = cv2.copyMakeBorder(img, 0, int(h/5), 0, 0, cv2.BORDER_CONSTANT, value=[0, 0, 0])\n",
    "img = cv2.cvtColor(img, cv2.COLOR_GRAY2RGB)\n",
    "print(img.shape)\n",
    "\n",
    "# img = cv2.cvtColor(img, cv2.COLOR_BGR2RGB)\n",
    "\n",
    "# print(img.shape)\n",
    "# cv2.imshow('img', img)\n",
    "# cv2.waitKey(1)\n",
    "buf = BytesIO()\n",
    "\n",
    "\n",
    "\n",
    "img = Image.fromarray(img)\n",
    "\n",
    "# img.save(buf, format='png')\n",
    "# data = buf.getvalue()\n",
    "\n",
    "# bg = Image.new('RGB', img.size, color=(255, 255, 255))\n",
    "# bg.paste(img, (0, 0))\n",
    "\n",
    "size = int((h/5)*0.75)\n",
    "font = ImageFont.truetype(r'./GlowSansSC-Normal-Heavy.otf', size)\n",
    "txt = '你好'\n",
    "w1, h1 = font.getsize(txt)\n",
    "# w1 = r - l\n",
    "# h1 = b - t\n",
    "draw = ImageDraw.Draw(img)\n",
    "draw.text(((w-w1)/2, h + (h//5-h1)/2), txt, fill='white', font=font)\n",
    "# draw.text((5, 5), txt, fill='red', font=font)\n",
    "img.show()\n"
   ],
   "id": "80386d373cb9b084",
   "outputs": [
    {
     "name": "stdout",
     "output_type": "stream",
     "text": [
      "(320, 320)\n",
      "(384, 320, 3)\n"
     ]
    },
    {
     "name": "stderr",
     "output_type": "stream",
     "text": [
      "/var/folders/yx/z2ywm1jd3p7_gssk72ln9rj80000gn/T/ipykernel_59492/3208381599.py:45: DeprecationWarning: getsize is deprecated and will be removed in Pillow 10 (2023-07-01). Use getbbox or getlength instead.\n",
      "  w1, h1 = font.getsize(txt)\n"
     ]
    }
   ],
   "execution_count": 13
  },
  {
   "metadata": {
    "ExecuteTime": {
     "end_time": "2024-07-10T17:51:42.551370Z",
     "start_time": "2024-07-10T17:51:42.515342Z"
    }
   },
   "cell_type": "code",
   "source": [
    "import requests\n",
    "import json\n",
    "from io import BytesIO\n",
    "\n",
    "with open('1.jpg', 'rb') as f:\n",
    "    img_data = f.read()\n",
    "\n",
    "\n",
    "img_base = base64.b64encode(img_data)\n",
    "img = img_base.decode('ascii')\n",
    "\n",
    "headers = {'Content-Type': 'application/json'}\n",
    "data = json.dumps({'image': img, 'text': '我补药玩CS'})\n",
    "\n",
    "response = requests.post('127.0.0.1:5000/graywordmeme', headers=headers, data=data)\n",
    "\n",
    "print(response.json())"
   ],
   "id": "92aef16011c8d9e9",
   "outputs": [
    {
     "ename": "InvalidSchema",
     "evalue": "No connection adapters were found for '127.0.0.1:5000/graywordmeme'",
     "output_type": "error",
     "traceback": [
      "\u001B[0;31m---------------------------------------------------------------------------\u001B[0m",
      "\u001B[0;31mInvalidSchema\u001B[0m                             Traceback (most recent call last)",
      "Cell \u001B[0;32mIn[19], line 15\u001B[0m\n\u001B[1;32m     12\u001B[0m headers \u001B[38;5;241m=\u001B[39m {\u001B[38;5;124m'\u001B[39m\u001B[38;5;124mContent-Type\u001B[39m\u001B[38;5;124m'\u001B[39m: \u001B[38;5;124m'\u001B[39m\u001B[38;5;124mapplication/json\u001B[39m\u001B[38;5;124m'\u001B[39m}\n\u001B[1;32m     13\u001B[0m data \u001B[38;5;241m=\u001B[39m json\u001B[38;5;241m.\u001B[39mdumps({\u001B[38;5;124m'\u001B[39m\u001B[38;5;124mimage\u001B[39m\u001B[38;5;124m'\u001B[39m: img, \u001B[38;5;124m'\u001B[39m\u001B[38;5;124mtext\u001B[39m\u001B[38;5;124m'\u001B[39m: \u001B[38;5;124m'\u001B[39m\u001B[38;5;124m我补药玩CS\u001B[39m\u001B[38;5;124m'\u001B[39m})\n\u001B[0;32m---> 15\u001B[0m response \u001B[38;5;241m=\u001B[39m requests\u001B[38;5;241m.\u001B[39mpost(\u001B[38;5;124m'\u001B[39m\u001B[38;5;124m127.0.0.1:5000/graywordmeme\u001B[39m\u001B[38;5;124m'\u001B[39m, headers\u001B[38;5;241m=\u001B[39mheaders, data\u001B[38;5;241m=\u001B[39mdata)\n\u001B[1;32m     17\u001B[0m \u001B[38;5;28mprint\u001B[39m(response\u001B[38;5;241m.\u001B[39mjson())\n",
      "File \u001B[0;32m~/anaconda3/lib/python3.11/site-packages/requests/api.py:115\u001B[0m, in \u001B[0;36mpost\u001B[0;34m(url, data, json, **kwargs)\u001B[0m\n\u001B[1;32m    103\u001B[0m \u001B[38;5;28;01mdef\u001B[39;00m \u001B[38;5;21mpost\u001B[39m(url, data\u001B[38;5;241m=\u001B[39m\u001B[38;5;28;01mNone\u001B[39;00m, json\u001B[38;5;241m=\u001B[39m\u001B[38;5;28;01mNone\u001B[39;00m, \u001B[38;5;241m*\u001B[39m\u001B[38;5;241m*\u001B[39mkwargs):\n\u001B[1;32m    104\u001B[0m \u001B[38;5;250m    \u001B[39m\u001B[38;5;124mr\u001B[39m\u001B[38;5;124;03m\"\"\"Sends a POST request.\u001B[39;00m\n\u001B[1;32m    105\u001B[0m \n\u001B[1;32m    106\u001B[0m \u001B[38;5;124;03m    :param url: URL for the new :class:`Request` object.\u001B[39;00m\n\u001B[0;32m   (...)\u001B[0m\n\u001B[1;32m    112\u001B[0m \u001B[38;5;124;03m    :rtype: requests.Response\u001B[39;00m\n\u001B[1;32m    113\u001B[0m \u001B[38;5;124;03m    \"\"\"\u001B[39;00m\n\u001B[0;32m--> 115\u001B[0m     \u001B[38;5;28;01mreturn\u001B[39;00m request(\u001B[38;5;124m\"\u001B[39m\u001B[38;5;124mpost\u001B[39m\u001B[38;5;124m\"\u001B[39m, url, data\u001B[38;5;241m=\u001B[39mdata, json\u001B[38;5;241m=\u001B[39mjson, \u001B[38;5;241m*\u001B[39m\u001B[38;5;241m*\u001B[39mkwargs)\n",
      "File \u001B[0;32m~/anaconda3/lib/python3.11/site-packages/requests/api.py:59\u001B[0m, in \u001B[0;36mrequest\u001B[0;34m(method, url, **kwargs)\u001B[0m\n\u001B[1;32m     55\u001B[0m \u001B[38;5;66;03m# By using the 'with' statement we are sure the session is closed, thus we\u001B[39;00m\n\u001B[1;32m     56\u001B[0m \u001B[38;5;66;03m# avoid leaving sockets open which can trigger a ResourceWarning in some\u001B[39;00m\n\u001B[1;32m     57\u001B[0m \u001B[38;5;66;03m# cases, and look like a memory leak in others.\u001B[39;00m\n\u001B[1;32m     58\u001B[0m \u001B[38;5;28;01mwith\u001B[39;00m sessions\u001B[38;5;241m.\u001B[39mSession() \u001B[38;5;28;01mas\u001B[39;00m session:\n\u001B[0;32m---> 59\u001B[0m     \u001B[38;5;28;01mreturn\u001B[39;00m session\u001B[38;5;241m.\u001B[39mrequest(method\u001B[38;5;241m=\u001B[39mmethod, url\u001B[38;5;241m=\u001B[39murl, \u001B[38;5;241m*\u001B[39m\u001B[38;5;241m*\u001B[39mkwargs)\n",
      "File \u001B[0;32m~/anaconda3/lib/python3.11/site-packages/requests/sessions.py:589\u001B[0m, in \u001B[0;36mSession.request\u001B[0;34m(self, method, url, params, data, headers, cookies, files, auth, timeout, allow_redirects, proxies, hooks, stream, verify, cert, json)\u001B[0m\n\u001B[1;32m    584\u001B[0m send_kwargs \u001B[38;5;241m=\u001B[39m {\n\u001B[1;32m    585\u001B[0m     \u001B[38;5;124m\"\u001B[39m\u001B[38;5;124mtimeout\u001B[39m\u001B[38;5;124m\"\u001B[39m: timeout,\n\u001B[1;32m    586\u001B[0m     \u001B[38;5;124m\"\u001B[39m\u001B[38;5;124mallow_redirects\u001B[39m\u001B[38;5;124m\"\u001B[39m: allow_redirects,\n\u001B[1;32m    587\u001B[0m }\n\u001B[1;32m    588\u001B[0m send_kwargs\u001B[38;5;241m.\u001B[39mupdate(settings)\n\u001B[0;32m--> 589\u001B[0m resp \u001B[38;5;241m=\u001B[39m \u001B[38;5;28mself\u001B[39m\u001B[38;5;241m.\u001B[39msend(prep, \u001B[38;5;241m*\u001B[39m\u001B[38;5;241m*\u001B[39msend_kwargs)\n\u001B[1;32m    591\u001B[0m \u001B[38;5;28;01mreturn\u001B[39;00m resp\n",
      "File \u001B[0;32m~/anaconda3/lib/python3.11/site-packages/requests/sessions.py:697\u001B[0m, in \u001B[0;36mSession.send\u001B[0;34m(self, request, **kwargs)\u001B[0m\n\u001B[1;32m    694\u001B[0m hooks \u001B[38;5;241m=\u001B[39m request\u001B[38;5;241m.\u001B[39mhooks\n\u001B[1;32m    696\u001B[0m \u001B[38;5;66;03m# Get the appropriate adapter to use\u001B[39;00m\n\u001B[0;32m--> 697\u001B[0m adapter \u001B[38;5;241m=\u001B[39m \u001B[38;5;28mself\u001B[39m\u001B[38;5;241m.\u001B[39mget_adapter(url\u001B[38;5;241m=\u001B[39mrequest\u001B[38;5;241m.\u001B[39murl)\n\u001B[1;32m    699\u001B[0m \u001B[38;5;66;03m# Start time (approximately) of the request\u001B[39;00m\n\u001B[1;32m    700\u001B[0m start \u001B[38;5;241m=\u001B[39m preferred_clock()\n",
      "File \u001B[0;32m~/anaconda3/lib/python3.11/site-packages/requests/sessions.py:794\u001B[0m, in \u001B[0;36mSession.get_adapter\u001B[0;34m(self, url)\u001B[0m\n\u001B[1;32m    791\u001B[0m         \u001B[38;5;28;01mreturn\u001B[39;00m adapter\n\u001B[1;32m    793\u001B[0m \u001B[38;5;66;03m# Nothing matches :-/\u001B[39;00m\n\u001B[0;32m--> 794\u001B[0m \u001B[38;5;28;01mraise\u001B[39;00m InvalidSchema(\u001B[38;5;124mf\u001B[39m\u001B[38;5;124m\"\u001B[39m\u001B[38;5;124mNo connection adapters were found for \u001B[39m\u001B[38;5;132;01m{\u001B[39;00murl\u001B[38;5;132;01m!r}\u001B[39;00m\u001B[38;5;124m\"\u001B[39m)\n",
      "\u001B[0;31mInvalidSchema\u001B[0m: No connection adapters were found for '127.0.0.1:5000/graywordmeme'"
     ]
    }
   ],
   "execution_count": 19
  },
  {
   "metadata": {},
   "cell_type": "code",
   "outputs": [],
   "execution_count": null,
   "source": [],
   "id": "6ecec62f0485dc8a"
  }
 ],
 "metadata": {
  "kernelspec": {
   "display_name": "Python 3",
   "language": "python",
   "name": "python3"
  },
  "language_info": {
   "codemirror_mode": {
    "name": "ipython",
    "version": 2
   },
   "file_extension": ".py",
   "mimetype": "text/x-python",
   "name": "python",
   "nbconvert_exporter": "python",
   "pygments_lexer": "ipython2",
   "version": "2.7.6"
  }
 },
 "nbformat": 4,
 "nbformat_minor": 5
}
